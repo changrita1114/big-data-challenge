{
  "nbformat": 4,
  "nbformat_minor": 0,
  "metadata": {
    "colab": {
      "name": "Amazon_PC.ipynb",
      "provenance": [],
      "collapsed_sections": []
    },
    "kernelspec": {
      "name": "python3",
      "display_name": "Python 3"
    }
  },
  "cells": [
    {
      "cell_type": "code",
      "metadata": {
        "colab": {
          "base_uri": "https://localhost:8080/"
        },
        "id": "w6cmqJloSDDa",
        "outputId": "0fb6b013-b65d-4722-e232-e5832c5c2ddc"
      },
      "source": [
        "import os\n",
        "# Find the latest version of spark 3.0  from http://www-us.apache.org/dist/spark/ and enter as the spark version\n",
        "# For example:\n",
        "# spark_version = 'spark-3.0.1'\n",
        "spark_version = 'spark-3.0.1'\n",
        "os.environ['SPARK_VERSION']=spark_version\n",
        "\n",
        "# Install Spark and Java\n",
        "!apt-get update\n",
        "!apt-get install openjdk-11-jdk-headless -qq > /dev/null\n",
        "!wget -q http://www-us.apache.org/dist/spark/$SPARK_VERSION/$SPARK_VERSION-bin-hadoop2.7.tgz\n",
        "!tar xf $SPARK_VERSION-bin-hadoop2.7.tgz\n",
        "!pip install -q findspark\n",
        "\n",
        "# Set Environment Variables\n",
        "os.environ[\"JAVA_HOME\"] = \"/usr/lib/jvm/java-11-openjdk-amd64\"\n",
        "os.environ[\"SPARK_HOME\"] = f\"/content/{spark_version}-bin-hadoop2.7\"\n",
        "\n",
        "# Start a SparkSession\n",
        "import findspark\n",
        "findspark.init()"
      ],
      "execution_count": 1,
      "outputs": [
        {
          "output_type": "stream",
          "text": [
            "Get:1 https://cloud.r-project.org/bin/linux/ubuntu bionic-cran40/ InRelease [3,626 B]\n",
            "Ign:2 https://developer.download.nvidia.com/compute/cuda/repos/ubuntu1804/x86_64  InRelease\n",
            "Get:3 https://cloud.r-project.org/bin/linux/ubuntu bionic-cran40/ Packages [44.8 kB]\n",
            "Get:4 http://security.ubuntu.com/ubuntu bionic-security InRelease [88.7 kB]\n",
            "Ign:5 https://developer.download.nvidia.com/compute/machine-learning/repos/ubuntu1804/x86_64  InRelease\n",
            "Get:6 https://developer.download.nvidia.com/compute/cuda/repos/ubuntu1804/x86_64  Release [697 B]\n",
            "Hit:7 https://developer.download.nvidia.com/compute/machine-learning/repos/ubuntu1804/x86_64  Release\n",
            "Get:8 http://ppa.launchpad.net/c2d4u.team/c2d4u4.0+/ubuntu bionic InRelease [15.9 kB]\n",
            "Get:9 https://developer.download.nvidia.com/compute/cuda/repos/ubuntu1804/x86_64  Release.gpg [836 B]\n",
            "Hit:11 http://archive.ubuntu.com/ubuntu bionic InRelease\n",
            "Ign:12 https://developer.download.nvidia.com/compute/cuda/repos/ubuntu1804/x86_64  Packages\n",
            "Get:13 http://archive.ubuntu.com/ubuntu bionic-updates InRelease [88.7 kB]\n",
            "Get:12 https://developer.download.nvidia.com/compute/cuda/repos/ubuntu1804/x86_64  Packages [552 kB]\n",
            "Hit:14 http://ppa.launchpad.net/cran/libgit2/ubuntu bionic InRelease\n",
            "Get:15 http://security.ubuntu.com/ubuntu bionic-security/universe amd64 Packages [1,387 kB]\n",
            "Hit:16 http://ppa.launchpad.net/graphics-drivers/ppa/ubuntu bionic InRelease\n",
            "Get:17 http://archive.ubuntu.com/ubuntu bionic-backports InRelease [74.6 kB]\n",
            "Get:18 http://archive.ubuntu.com/ubuntu bionic-updates/universe amd64 Packages [2,161 kB]\n",
            "Get:19 http://ppa.launchpad.net/c2d4u.team/c2d4u4.0+/ubuntu bionic/main Sources [1,729 kB]\n",
            "Get:20 http://security.ubuntu.com/ubuntu bionic-security/main amd64 Packages [1,921 kB]\n",
            "Get:21 http://archive.ubuntu.com/ubuntu bionic-updates/main amd64 Packages [2,358 kB]\n",
            "Get:22 http://ppa.launchpad.net/c2d4u.team/c2d4u4.0+/ubuntu bionic/main amd64 Packages [885 kB]\n",
            "Fetched 11.3 MB in 5s (2,072 kB/s)\n",
            "Reading package lists... Done\n"
          ],
          "name": "stdout"
        }
      ]
    },
    {
      "cell_type": "code",
      "metadata": {
        "colab": {
          "base_uri": "https://localhost:8080/"
        },
        "id": "6j0RccfBtVSO",
        "outputId": "8a0e9272-1e23-4137-df1b-7a882764bd90"
      },
      "source": [
        "!wget https://jdbc.postgresql.org/download/postgresql-42.2.9.jar"
      ],
      "execution_count": 2,
      "outputs": [
        {
          "output_type": "stream",
          "text": [
            "--2021-02-09 01:52:36--  https://jdbc.postgresql.org/download/postgresql-42.2.9.jar\n",
            "Resolving jdbc.postgresql.org (jdbc.postgresql.org)... 72.32.157.228, 2001:4800:3e1:1::228\n",
            "Connecting to jdbc.postgresql.org (jdbc.postgresql.org)|72.32.157.228|:443... connected.\n",
            "HTTP request sent, awaiting response... 200 OK\n",
            "Length: 914037 (893K) [application/java-archive]\n",
            "Saving to: ‘postgresql-42.2.9.jar’\n",
            "\n",
            "postgresql-42.2.9.j 100%[===================>] 892.61K  1.30MB/s    in 0.7s    \n",
            "\n",
            "2021-02-09 01:52:38 (1.30 MB/s) - ‘postgresql-42.2.9.jar’ saved [914037/914037]\n",
            "\n"
          ],
          "name": "stdout"
        }
      ]
    },
    {
      "cell_type": "code",
      "metadata": {
        "id": "3ZnWoveRtWwE"
      },
      "source": [
        "from pyspark.sql import SparkSession\n",
        "spark = SparkSession.builder.appName(\"Amazon_PC\").config(\"spark.driver.extraClassPath\",\"/content/postgresql-42.2.9.jar\").getOrCreate()"
      ],
      "execution_count": 3,
      "outputs": []
    },
    {
      "cell_type": "code",
      "metadata": {
        "colab": {
          "base_uri": "https://localhost:8080/"
        },
        "id": "akiT00aOSVSB",
        "outputId": "5c7ba85f-9619-40a6-f938-446f9029ade4"
      },
      "source": [
        "# Read in data from S3 Buckets\n",
        "from pyspark import SparkFiles\n",
        "url =\"https://s3.amazonaws.com/amazon-reviews-pds/tsv/amazon_reviews_us_PC_v1_00.tsv.gz\"\n",
        "spark.sparkContext.addFile(url)\n",
        "df = spark.read.csv(SparkFiles.get(\"amazon_reviews_us_PC_v1_00.tsv.gz\"), sep=\"\\t\", header=True, inferSchema=True, timestampFormat=\"yyyy/MM/dd HH:mm:ss\")\n",
        "# Show DataFrame\n",
        "df.show()"
      ],
      "execution_count": 4,
      "outputs": [
        {
          "output_type": "stream",
          "text": [
            "+-----------+-----------+--------------+----------+--------------+--------------------+----------------+-----------+-------------+-----------+----+-----------------+--------------------+--------------------+-----------+\n",
            "|marketplace|customer_id|     review_id|product_id|product_parent|       product_title|product_category|star_rating|helpful_votes|total_votes|vine|verified_purchase|     review_headline|         review_body|review_date|\n",
            "+-----------+-----------+--------------+----------+--------------+--------------------+----------------+-----------+-------------+-----------+----+-----------------+--------------------+--------------------+-----------+\n",
            "|         US|   22873041|R3ARRMDEGED8RD|B00KJWQIIC|     335625766|Plemo 14-Inch Lap...|              PC|          5|            0|          0|   N|                Y|Pleasantly surprised|I was very surpri...| 2015-08-31|\n",
            "|         US|   30088427| RQ28TSA020Y6J|B013ALA9LA|     671157305|TP-Link OnHub AC1...|              PC|          5|           24|         31|   N|                N|OnHub is a pretty...|I am a Google emp...| 2015-08-31|\n",
            "|         US|   20329786| RUXJRZCT6953M|B00PML2GQ8|     982036237|AmazonBasics USB ...|              PC|          1|            2|          2|   N|                N|None of them work...|Bought cables in ...| 2015-08-31|\n",
            "|         US|   14215710| R7EO0UO6BPB71|B001NS0OZ4|     576587596|Transcend P8 15-i...|              PC|          1|            0|          0|   N|                Y|just keep searching.|nope, cheap and slow| 2015-08-31|\n",
            "|         US|   38264512|R39NJY2YJ1JFSV|B00AQMTND2|     964759214|Aleratec SATA Dat...|              PC|          5|            0|          0|   N|                Y|          Five Stars|Excellent! Great ...| 2015-08-31|\n",
            "|         US|   30548466|R31SR7REWNX7CF|B00KX4TORI|     170101802|Kingston Digital ...|              PC|          5|            0|          0|   N|                Y|Good quality, wor...|Good quality,work...| 2015-08-31|\n",
            "|         US|     589298| RVBP8I1R0CTZ8|B00P17WEMY|     206124740|White 9 Inch Unlo...|              PC|          3|            1|          2|   N|                Y|in fact this is t...|This demn tablet ...| 2015-08-31|\n",
            "|         US|   49329488|R1QF6RS1PDLU18|B00TR05L9Y|     778403103|Lenovo TAB2 A10 -...|              PC|          4|            1|          1|   N|                Y|                Good|I am not sure I d...| 2015-08-31|\n",
            "|         US|   50728290|R23AICGEDAJQL1|B0098Y77OG|     177098042|                Acer|              PC|          1|            0|          0|   N|                Y|You get what you ...|After exactly 45 ...| 2015-08-31|\n",
            "|         US|   37802374|R2EY3N4K9W19UP|B00IFYEYXC|     602496520|AzureWave Broadco...|              PC|          5|            3|          4|   N|                Y|Great for Windows...|Replaced my Intel...| 2015-08-31|\n",
            "|         US|   52027882| RC9AW4HKJ016M|B0091ITP0S|     977217357|HDE Rotating iPad...|              PC|          1|            0|          0|   N|                Y|            One Star|IT HAS ALREADY CR...| 2015-08-31|\n",
            "|         US|   41770239|R2ALWJE9N6ZBXD|B008I21EA2|     295632907|Linksys AC1750 Wi...|              PC|          1|            0|          0|   N|                N|   Very Disappointed|Very disappointed...| 2015-08-31|\n",
            "|         US|   42560427|R2G5FPA4OX37GV|B00MRB7SBO|     922591915|iPad Pro 9.7, iPa...|              PC|          5|            1|          1|   N|                Y|          Five Stars|Works well. I use...| 2015-08-31|\n",
            "|         US|   46345923|R1IKTSEVXSIMOD|B00LLER2CS|     997551273|SanDisk 16GB CZ43...|              PC|          5|            0|          0|   N|                Y|The encryption so...|The encryption so...| 2015-08-31|\n",
            "|         US|   41751192|R2YA6G6SRFEWF6|B00B0CQCCC|     937999925|TRENDnet Wireless...|              PC|          1|            0|          1|   N|                Y|Didn't last 2 years.|I have owned this...| 2015-08-31|\n",
            "|         US|   21176481| RS9H1N9I3Z1IA|B00GU8W5AE|      13865167|Redragon M901 PER...|              PC|          5|            0|          0|   N|                Y|Awesome gaming mouse|My first gaming m...| 2015-08-31|\n",
            "|         US|   10674058| RKKLBI76VTDNT|B00XHMXJQ0|     967483469|Mudder MHL Adapte...|              PC|          1|            0|          0|   N|                Y|            One Star|I cannot get it t...| 2015-08-31|\n",
            "|         US|   43341796|R2NJ3WFUS4E5G6|B00YGJJQ6U|     986548413|Fintie iPad Air 2...|              PC|          4|            0|          0|   N|                Y|Great choices of ...|Love that Finite ...| 2015-08-31|\n",
            "|         US|   13232866|R21PTQNLGCBN0I|B00XMN20Y6|     873354048|Fintie iPad 2/3/4...|              PC|          5|            0|          0|   N|                Y|          Five Stars|Nice color, I lov...| 2015-08-31|\n",
            "|         US|   29333557|R3G4RT3EQ9RSY7|B00MA40W9I|     535866197|Egoway® New Lapto...|              PC|          1|            0|          0|   N|                Y|Totally wasted $6...|Totally wasted $6...| 2015-08-31|\n",
            "+-----------+-----------+--------------+----------+--------------+--------------------+----------------+-----------+-------------+-----------+----+-----------------+--------------------+--------------------+-----------+\n",
            "only showing top 20 rows\n",
            "\n"
          ],
          "name": "stdout"
        }
      ]
    },
    {
      "cell_type": "code",
      "metadata": {
        "id": "TFab0L4QSivm",
        "colab": {
          "base_uri": "https://localhost:8080/"
        },
        "outputId": "4c89e3e5-7311-4d81-eaf0-8d10babb1d62"
      },
      "source": [
        "print(df.count())\n",
        "df = df.dropna()\n",
        "print(df.count())\n",
        "df = df.dropDuplicates()\n",
        "print(df.count())"
      ],
      "execution_count": 5,
      "outputs": [
        {
          "output_type": "stream",
          "text": [
            "6908554\n",
            "6908145\n",
            "6908145\n"
          ],
          "name": "stdout"
        }
      ]
    },
    {
      "cell_type": "code",
      "metadata": {
        "colab": {
          "base_uri": "https://localhost:8080/"
        },
        "id": "bxd82NGRSicH",
        "outputId": "7792f801-e724-41b5-de80-418ed9faf8a5"
      },
      "source": [
        "# Transform the dataset to fit the tables in the schema file.\n",
        "# Be sure the DataFrames match in data type and in column name.\n",
        "df.printSchema()"
      ],
      "execution_count": 6,
      "outputs": [
        {
          "output_type": "stream",
          "text": [
            "root\n",
            " |-- marketplace: string (nullable = true)\n",
            " |-- customer_id: integer (nullable = true)\n",
            " |-- review_id: string (nullable = true)\n",
            " |-- product_id: string (nullable = true)\n",
            " |-- product_parent: integer (nullable = true)\n",
            " |-- product_title: string (nullable = true)\n",
            " |-- product_category: string (nullable = true)\n",
            " |-- star_rating: integer (nullable = true)\n",
            " |-- helpful_votes: integer (nullable = true)\n",
            " |-- total_votes: integer (nullable = true)\n",
            " |-- vine: string (nullable = true)\n",
            " |-- verified_purchase: string (nullable = true)\n",
            " |-- review_headline: string (nullable = true)\n",
            " |-- review_body: string (nullable = true)\n",
            " |-- review_date: string (nullable = true)\n",
            "\n"
          ],
          "name": "stdout"
        }
      ]
    },
    {
      "cell_type": "markdown",
      "metadata": {
        "id": "ybRmnoIcNwA4"
      },
      "source": [
        "**Create Tables**"
      ]
    },
    {
      "cell_type": "code",
      "metadata": {
        "colab": {
          "base_uri": "https://localhost:8080/"
        },
        "id": "ReT-XCimSiFY",
        "outputId": "b60ce259-be60-4a94-c79f-f5e38950aa27"
      },
      "source": [
        "# Create review_id_table \n",
        "review_id_table = df.select([\"review_id\", \"customer_id\", \"product_id\", \"product_parent\", \"review_date\"])\n",
        "review_id_table.show()"
      ],
      "execution_count": 7,
      "outputs": [
        {
          "output_type": "stream",
          "text": [
            "+--------------+-----------+----------+--------------+-----------+\n",
            "|     review_id|customer_id|product_id|product_parent|review_date|\n",
            "+--------------+-----------+----------+--------------+-----------+\n",
            "|R1001R3EZZ18B3|   13512246|B0096PD2SC|     422768802| 2013-01-27|\n",
            "|R1004BM171V49W|   51335459|B004BFLP4A|     594900069| 2014-02-10|\n",
            "|R100UWA60RMCZO|    7512500|B00FRHTTIU|      16015786| 2015-08-26|\n",
            "|R100WQXUW2PBN3|   39247889|B001L1H0SC|     571829280| 2013-02-14|\n",
            "| R100X9X33YXTK|   41228892|B00S9AMAPG|      92004405| 2015-05-15|\n",
            "|R1018PWJWJL3DG|   52797442|B00LU7B8X0|     298756776| 2015-02-14|\n",
            "|R101GZBULGZ95L|   15440915|B002NU5O3S|     463968341| 2013-04-17|\n",
            "|R101IPFQKVUN9K|   16045822|B0040IEIII|     212966274| 2014-07-24|\n",
            "|R101IU98XWDZM1|   15432781|B00425S1H8|     386765193| 2013-12-02|\n",
            "|R101MVTU2LUCWC|   27493758|B00EXPNFUA|     124052875| 2014-08-10|\n",
            "|R101WYR41JXHE2|   10863411|B00HJ0VSJ6|     627075706| 2014-12-10|\n",
            "|R1024E7S3630L0|     584077|B00Y7MTL6G|     687620120| 2015-08-08|\n",
            "|R1025TYVSHWFGU|   29358578|B009NCMFOU|     688783171| 2013-03-21|\n",
            "|R10292I5MYBPIA|   44262212|B00KKC2GKK|     399125435| 2015-03-07|\n",
            "|R102IRNMYOHD5H|   26008952|B005QCDY50|     604377682| 2014-10-14|\n",
            "|R102JIQJAOWNLR|   10688300|B0051QVESA|     349304431| 2012-01-04|\n",
            "|R102KZOH5QOW4T|   50789761|B00RK0UZZS|     975277601| 2015-04-03|\n",
            "|R102N6YJHMMZB2|   45089802|B002LVUX1W|      57096051| 2010-11-04|\n",
            "|R102QN2BR4Q463|   45083602|B00IKF2H12|     393325209| 2014-07-10|\n",
            "|R102WO57X29WAD|   43539250|B0058Y1H78|     811784980| 2012-07-23|\n",
            "+--------------+-----------+----------+--------------+-----------+\n",
            "only showing top 20 rows\n",
            "\n"
          ],
          "name": "stdout"
        }
      ]
    },
    {
      "cell_type": "code",
      "metadata": {
        "colab": {
          "base_uri": "https://localhost:8080/"
        },
        "id": "E7kno3WeBUWp",
        "outputId": "1e8f1847-ccc5-4acf-ee95-d7a656ac89b6"
      },
      "source": [
        "review_id_table.printSchema()"
      ],
      "execution_count": 8,
      "outputs": [
        {
          "output_type": "stream",
          "text": [
            "root\n",
            " |-- review_id: string (nullable = true)\n",
            " |-- customer_id: integer (nullable = true)\n",
            " |-- product_id: string (nullable = true)\n",
            " |-- product_parent: integer (nullable = true)\n",
            " |-- review_date: string (nullable = true)\n",
            "\n"
          ],
          "name": "stdout"
        }
      ]
    },
    {
      "cell_type": "code",
      "metadata": {
        "colab": {
          "base_uri": "https://localhost:8080/"
        },
        "id": "mPnalJA1SuNE",
        "outputId": "d4ad1122-946f-411e-ddcd-b2b88849eb32"
      },
      "source": [
        "# Create products table \n",
        "products = df.select([\"product_id\", \"product_title\"])\n",
        "products.show()"
      ],
      "execution_count": 9,
      "outputs": [
        {
          "output_type": "stream",
          "text": [
            "+----------+--------------------+\n",
            "|product_id|       product_title|\n",
            "+----------+--------------------+\n",
            "|B0096PD2SC|Targus iPad Mini ...|\n",
            "|B004BFLP4A|Clickfree C2 Auto...|\n",
            "|B00FRHTTIU|Seagate Backup Pl...|\n",
            "|B001L1H0SC|SanDisk 16 GB mic...|\n",
            "|B00S9AMAPG|Dragon Touch Y88X...|\n",
            "|B00LU7B8X0|AmazonBasics Lapt...|\n",
            "|B002NU5O3S|Targus Crave Slip...|\n",
            "|B0040IEIII|TETC Tablet Car M...|\n",
            "|B00425S1H8|Plugable USB to R...|\n",
            "|B00EXPNFUA|Corsair Gaming Ga...|\n",
            "|B00HJ0VSJ6|8.9 - 10.1 inch T...|\n",
            "|B00Y7MTL6G|Vogue Shop PU Lea...|\n",
            "|B009NCMFOU|iBuyPower GAMER P...|\n",
            "|B00KKC2GKK|NEWSTYLE Detachab...|\n",
            "|B005QCDY50|GreatShield Ultra...|\n",
            "|B0051QVESA|Kindle, Wi-Fi, 6\"...|\n",
            "|B00RK0UZZS|Tagital 10.1 inch...|\n",
            "|B002LVUX1W|Kindle Keyboard 3...|\n",
            "|B00IKF2H12|ASUS ROG G750JM 1...|\n",
            "|B0058Y1H78|Koolertron New Pe...|\n",
            "+----------+--------------------+\n",
            "only showing top 20 rows\n",
            "\n"
          ],
          "name": "stdout"
        }
      ]
    },
    {
      "cell_type": "code",
      "metadata": {
        "id": "as4C7Y6KNj4b",
        "colab": {
          "base_uri": "https://localhost:8080/"
        },
        "outputId": "0c6d3f54-0794-4f19-ff5c-500252af47ed"
      },
      "source": [
        "# Create customer table\n",
        "from pyspark.sql.functions import desc\n",
        "customer_count_df = df.select(\"customer_id\").groupby(\"customer_id\")\\\n",
        "  .agg({\"customer_id\":\"count\"})\n",
        "customer_count_df = customer_count_df.withColumnRenamed(\"count(customer_id)\", \"customer_count\")\n",
        "customer_count_df.show(truncate=False)"
      ],
      "execution_count": 10,
      "outputs": [
        {
          "output_type": "stream",
          "text": [
            "+-----------+--------------+\n",
            "|customer_id|customer_count|\n",
            "+-----------+--------------+\n",
            "|36702702   |2             |\n",
            "|38998964   |8             |\n",
            "|49081248   |1             |\n",
            "|28358430   |1             |\n",
            "|21911449   |1             |\n",
            "|50480727   |2             |\n",
            "|9208062    |2             |\n",
            "|42672285   |2             |\n",
            "|26554579   |3             |\n",
            "|16956038   |2             |\n",
            "|6932710    |3             |\n",
            "|33714184   |6             |\n",
            "|21302050   |12            |\n",
            "|17164585   |5             |\n",
            "|51616677   |1             |\n",
            "|41049980   |2             |\n",
            "|828034     |1             |\n",
            "|45932425   |3             |\n",
            "|14337293   |7             |\n",
            "|43821790   |11            |\n",
            "+-----------+--------------+\n",
            "only showing top 20 rows\n",
            "\n"
          ],
          "name": "stdout"
        }
      ]
    },
    {
      "cell_type": "code",
      "metadata": {
        "colab": {
          "base_uri": "https://localhost:8080/"
        },
        "id": "G0rCh7mDLQNE",
        "outputId": "1857830e-f222-4134-877f-b904ec3404c4"
      },
      "source": [
        "# Create vine table\n",
        "vine_table = df.select([\"review_id\", \"star_rating\", \"helpful_votes\", \"total_votes\", \"vine\"])\n",
        "vine_table.show()"
      ],
      "execution_count": 11,
      "outputs": [
        {
          "output_type": "stream",
          "text": [
            "+--------------+-----------+-------------+-----------+----+\n",
            "|     review_id|star_rating|helpful_votes|total_votes|vine|\n",
            "+--------------+-----------+-------------+-----------+----+\n",
            "|R1001R3EZZ18B3|          3|            0|          0|   N|\n",
            "|R1004BM171V49W|          4|            1|          1|   N|\n",
            "|R100UWA60RMCZO|          5|            0|          0|   N|\n",
            "|R100WQXUW2PBN3|          5|            1|          1|   N|\n",
            "| R100X9X33YXTK|          3|            0|          0|   N|\n",
            "|R1018PWJWJL3DG|          4|            0|          0|   N|\n",
            "|R101GZBULGZ95L|          5|            0|          0|   N|\n",
            "|R101IPFQKVUN9K|          5|            0|          0|   N|\n",
            "|R101IU98XWDZM1|          5|            1|          1|   N|\n",
            "|R101MVTU2LUCWC|          5|            0|          0|   N|\n",
            "|R101WYR41JXHE2|          5|            0|          0|   N|\n",
            "|R1024E7S3630L0|          5|            0|          0|   N|\n",
            "|R1025TYVSHWFGU|          3|            1|          1|   N|\n",
            "|R10292I5MYBPIA|          4|            0|          0|   N|\n",
            "|R102IRNMYOHD5H|          4|            0|          0|   N|\n",
            "|R102JIQJAOWNLR|          4|            0|          0|   N|\n",
            "|R102KZOH5QOW4T|          1|            2|          3|   N|\n",
            "|R102N6YJHMMZB2|          2|            2|          8|   N|\n",
            "|R102QN2BR4Q463|          5|            1|          1|   N|\n",
            "|R102WO57X29WAD|          5|            0|          0|   N|\n",
            "+--------------+-----------+-------------+-----------+----+\n",
            "only showing top 20 rows\n",
            "\n"
          ],
          "name": "stdout"
        }
      ]
    },
    {
      "cell_type": "markdown",
      "metadata": {
        "id": "IYTr_U3UTIis"
      },
      "source": [
        "Postgres Setup"
      ]
    },
    {
      "cell_type": "code",
      "metadata": {
        "id": "rd64ej9fSuI6"
      },
      "source": [
        "# Configuration for RDS instance\n",
        "mode=\"append\"\n",
        "jdbc_url = \"jdbc:postgresql://ucsd-fyc.ckcik1qdrfa0.us-east-2.rds.amazonaws.com:5432/amazon_pc\"\n",
        "config = {\"user\":\"root\",\n",
        "          \"password\": \"postgres\",\n",
        "          \"driver\":\"org.postgresql.Driver\"}"
      ],
      "execution_count": 12,
      "outputs": []
    },
    {
      "cell_type": "code",
      "metadata": {
        "id": "zAnsxB-LSuE7"
      },
      "source": [
        "# Write DataFrame to active_user table in RDS\n",
        "\n",
        "review_id_table.write.jdbc(url=jdbc_url, table='review_id_table', mode=mode, properties=config)"
      ],
      "execution_count": null,
      "outputs": []
    },
    {
      "cell_type": "code",
      "metadata": {
        "id": "u1yR2pp7SuAj"
      },
      "source": [
        "# Write dataframe to products table in RDS\n",
        "\n",
        "products.write.jdbc(url=jdbc_url, table='products', mode=mode, properties=config)"
      ],
      "execution_count": null,
      "outputs": []
    },
    {
      "cell_type": "code",
      "metadata": {
        "id": "pdM51Y4uSt8Y"
      },
      "source": [
        "# Write dataframe to customers table in RDS\n",
        "\n",
        "customer_count_df.write.jdbc(url=jdbc_url, table='customers', mode=mode, properties=config)"
      ],
      "execution_count": null,
      "outputs": []
    },
    {
      "cell_type": "code",
      "metadata": {
        "id": "bsTKA5xwL07j"
      },
      "source": [
        "# Write dataframe to customers table in RDS\n",
        "\n",
        "vine_table.write.jdbc(url=jdbc_url, table='vine_table', mode=mode, properties=config)"
      ],
      "execution_count": null,
      "outputs": []
    }
  ]
}