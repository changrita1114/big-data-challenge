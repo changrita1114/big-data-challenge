{
 "cells": [
  {
   "cell_type": "code",
   "execution_count": null,
   "metadata": {
    "colab": {
     "base_uri": "https://localhost:8080/"
    },
    "id": "w6cmqJloSDDa",
    "outputId": "e16ab9ed-683f-402b-fb89-6eaf42e53079"
   },
   "outputs": [
    {
     "name": "stdout",
     "output_type": "stream",
     "text": [
      "\r",
      "0% [Working]\r",
      "            \r",
      "Ign:1 https://developer.download.nvidia.com/compute/cuda/repos/ubuntu1804/x86_64  InRelease\n",
      "\r",
      "0% [Waiting for headers] [Waiting for headers] [Waiting for headers] [Waiting f\r",
      "                                                                               \r",
      "Get:2 https://cloud.r-project.org/bin/linux/ubuntu bionic-cran40/ InRelease [3,626 B]\n",
      "\r",
      "0% [Waiting for headers] [Waiting for headers] [2 InRelease 0 B/3,626 B 0%] [Wa\r",
      "0% [Waiting for headers] [Waiting for headers] [Waiting for headers] [Waiting f\r",
      "0% [2 InRelease gpgv 3,626 B] [Waiting for headers] [Waiting for headers] [Wait\r",
      "                                                                               \r",
      "Hit:3 http://archive.ubuntu.com/ubuntu bionic InRelease\n",
      "\r",
      "0% [2 InRelease gpgv 3,626 B] [Waiting for headers] [Waiting for headers] [Wait\r",
      "                                                                               \r",
      "Get:4 http://security.ubuntu.com/ubuntu bionic-security InRelease [88.7 kB]\n",
      "\r",
      "0% [2 InRelease gpgv 3,626 B] [Waiting for headers] [4 InRelease 14.2 kB/88.7 k\r",
      "                                                                               \r",
      "Ign:5 https://developer.download.nvidia.com/compute/machine-learning/repos/ubuntu1804/x86_64  InRelease\n",
      "\r",
      "0% [2 InRelease gpgv 3,626 B] [Waiting for headers] [4 InRelease 14.2 kB/88.7 k\r",
      "                                                                               \r",
      "Get:6 https://developer.download.nvidia.com/compute/cuda/repos/ubuntu1804/x86_64  Release [697 B]\n",
      "\r",
      "0% [2 InRelease gpgv 3,626 B] [Waiting for headers] [4 InRelease 14.2 kB/88.7 k\r",
      "0% [2 InRelease gpgv 3,626 B] [Waiting for headers] [4 InRelease 14.2 kB/88.7 k\r",
      "                                                                               \r",
      "Get:7 http://ppa.launchpad.net/c2d4u.team/c2d4u4.0+/ubuntu bionic InRelease [15.9 kB]\n",
      "\r",
      "0% [2 InRelease gpgv 3,626 B] [Waiting for headers] [4 InRelease 14.2 kB/88.7 k\r",
      "                                                                               \r",
      "Hit:8 https://developer.download.nvidia.com/compute/machine-learning/repos/ubuntu1804/x86_64  Release\n",
      "Get:9 https://developer.download.nvidia.com/compute/cuda/repos/ubuntu1804/x86_64  Release.gpg [836 B]\n",
      "Get:10 http://archive.ubuntu.com/ubuntu bionic-updates InRelease [88.7 kB]\n",
      "Hit:11 http://ppa.launchpad.net/cran/libgit2/ubuntu bionic InRelease\n",
      "Get:12 https://cloud.r-project.org/bin/linux/ubuntu bionic-cran40/ Packages [44.8 kB]\n",
      "Get:13 http://archive.ubuntu.com/ubuntu bionic-backports InRelease [74.6 kB]\n",
      "Hit:14 http://ppa.launchpad.net/graphics-drivers/ppa/ubuntu bionic InRelease\n",
      "Ign:16 https://developer.download.nvidia.com/compute/cuda/repos/ubuntu1804/x86_64  Packages\n",
      "Get:16 https://developer.download.nvidia.com/compute/cuda/repos/ubuntu1804/x86_64  Packages [552 kB]\n",
      "Get:17 http://ppa.launchpad.net/c2d4u.team/c2d4u4.0+/ubuntu bionic/main Sources [1,729 kB]\n",
      "Get:18 http://security.ubuntu.com/ubuntu bionic-security/universe amd64 Packages [1,387 kB]\n",
      "Get:19 http://archive.ubuntu.com/ubuntu bionic-updates/universe amd64 Packages [2,161 kB]\n",
      "Get:20 http://security.ubuntu.com/ubuntu bionic-security/main amd64 Packages [1,921 kB]\n",
      "Get:21 http://ppa.launchpad.net/c2d4u.team/c2d4u4.0+/ubuntu bionic/main amd64 Packages [885 kB]\n",
      "Get:22 http://archive.ubuntu.com/ubuntu bionic-updates/main amd64 Packages [2,358 kB]\n",
      "Fetched 11.3 MB in 3s (3,493 kB/s)\n",
      "Reading package lists... Done\n"
     ]
    }
   ],
   "source": [
    "import os\n",
    "# Find the latest version of spark 3.0  from http://www-us.apache.org/dist/spark/ and enter as the spark version\n",
    "# For example:\n",
    "# spark_version = 'spark-3.0.1'\n",
    "spark_version = 'spark-3.0.1'\n",
    "os.environ['SPARK_VERSION']=spark_version\n",
    "\n",
    "# Install Spark and Java\n",
    "!apt-get update\n",
    "!apt-get install openjdk-11-jdk-headless -qq > /dev/null\n",
    "!wget -q http://www-us.apache.org/dist/spark/$SPARK_VERSION/$SPARK_VERSION-bin-hadoop2.7.tgz\n",
    "!tar xf $SPARK_VERSION-bin-hadoop2.7.tgz\n",
    "!pip install -q findspark\n",
    "\n",
    "# Set Environment Variables\n",
    "os.environ[\"JAVA_HOME\"] = \"/usr/lib/jvm/java-11-openjdk-amd64\"\n",
    "os.environ[\"SPARK_HOME\"] = f\"/content/{spark_version}-bin-hadoop2.7\"\n",
    "\n",
    "# Start a SparkSession\n",
    "import findspark\n",
    "findspark.init()"
   ]
  },
  {
   "cell_type": "code",
   "execution_count": null,
   "metadata": {
    "colab": {
     "base_uri": "https://localhost:8080/"
    },
    "id": "6j0RccfBtVSO",
    "outputId": "66d4bce9-9c89-462c-823e-ca27015dbc5c"
   },
   "outputs": [
    {
     "name": "stdout",
     "output_type": "stream",
     "text": [
      "--2021-02-09 03:02:16--  https://jdbc.postgresql.org/download/postgresql-42.2.9.jar\n",
      "Resolving jdbc.postgresql.org (jdbc.postgresql.org)... 72.32.157.228, 2001:4800:3e1:1::228\n",
      "Connecting to jdbc.postgresql.org (jdbc.postgresql.org)|72.32.157.228|:443... connected.\n",
      "HTTP request sent, awaiting response... 200 OK\n",
      "Length: 914037 (893K) [application/java-archive]\n",
      "Saving to: ‘postgresql-42.2.9.jar.1’\n",
      "\n",
      "postgresql-42.2.9.j 100%[===================>] 892.61K  --.-KB/s    in 0.1s    \n",
      "\n",
      "2021-02-09 03:02:17 (6.08 MB/s) - ‘postgresql-42.2.9.jar.1’ saved [914037/914037]\n",
      "\n"
     ]
    }
   ],
   "source": [
    "!wget https://jdbc.postgresql.org/download/postgresql-42.2.9.jar"
   ]
  },
  {
   "cell_type": "code",
   "execution_count": null,
   "metadata": {
    "id": "3ZnWoveRtWwE"
   },
   "outputs": [],
   "source": [
    "from pyspark.sql import SparkSession\n",
    "spark = SparkSession.builder.appName(\"Sample_FR\").config(\"spark.driver.extraClassPath\",\"/content/postgresql-42.2.9.jar\").getOrCreate()"
   ]
  },
  {
   "cell_type": "code",
   "execution_count": null,
   "metadata": {
    "colab": {
     "base_uri": "https://localhost:8080/"
    },
    "id": "akiT00aOSVSB",
    "outputId": "f07fab41-1106-4fa0-f084-97c4f39c4033"
   },
   "outputs": [
    {
     "name": "stdout",
     "output_type": "stream",
     "text": [
      "+-----------+-----------+--------------+----------+--------------+--------------------+--------------------+-----------+-------------+-----------+----+-----------------+--------------------+--------------------+-----------+\n",
      "|marketplace|customer_id|     review_id|product_id|product_parent|       product_title|    product_category|star_rating|helpful_votes|total_votes|vine|verified_purchase|     review_headline|         review_body|review_date|\n",
      "+-----------+-----------+--------------+----------+--------------+--------------------+--------------------+-----------+-------------+-----------+----+-----------------+--------------------+--------------------+-----------+\n",
      "|         FR|      14952|R32VYUWDIB5LKE|0552774294|     362925721|    The God Delusion|               Books|          5|            0|          0|   N|                Y|a propos de ce livre|je conseille fort...| 2013-02-13|\n",
      "|         FR|      14952|R3CCMP4EV6HAVL|B004GJXQ20|     268067011|A Game of Thrones...|Digital_Ebook_Pur...|          5|            0|          0|   N|                Y|                 wow|ce magnifique est...| 2014-08-03|\n",
      "|         FR|      17564|R14NAE6UGTVTA2|B00GIGGS6A|     256731097|      Huion H610 PRO|                  PC|          3|            1|          3|   N|                Y|      Ca fait le job|Je dirais qu'il a...| 2015-07-07|\n",
      "|         FR|      18940|R2E7QEWSC6EWFA|B00CW7KK9K|     977480037|Withings Pulse - ...|              Sports|          4|            0|          1|   N|                Y|Fidele a description|Je l'ai depuis qu...| 2014-06-16|\n",
      "|         FR|      20315|R26E6I47GQRYKR|B002L6SKIK|     827187473|          Prometheus|           Video DVD|          2|            3|          5|   N|                N|            décevant|je m'attendait à ...| 2013-06-10|\n",
      "|         FR|      20842|R1RJMTSNCKB9LP|B00004YLIU|     678427290|               Kid A|               Music|          2|            0|          0|   N|                Y|                 10'|Ne disait pas sur...| 2013-04-15|\n",
      "|         FR|      20913|R2P2XF84YELQBZ|B00AYHK7RU|     108403123|        The Next Day|               Music|          5|            0|          3|   N|                Y|        the next day|du bon bowie,tr&e...| 2013-06-07|\n",
      "|         FR|      21490| RJKULSX2Y5R07|B00CJ3V5UK|     252503117|G.I. Joe 2 : Cons...|           Video DVD|          5|            0|          0|   N|                Y|       tres bon film|très bon film bea...| 2014-11-07|\n",
      "|         FR|      24196|R3UYE0U7SQCI8Q|B000FUM0TE|      48021829|             Amistad|           Video DVD|          5|            2|          3|   N|                Y|           Excellent|Un sujet délicat ...| 2012-11-16|\n",
      "|         FR|      24196|R1TKJ7XFS3RDEB|B000UMXCTY|     181554537|The Collection (C...|               Music|          5|            0|          1|   N|                Y|       C'est parfait|Un coffret d'un d...| 2013-04-23|\n",
      "|         FR|      24196|R3S9JNS21QDBXP|B0044JV1K6|     386772628|Braddock - Missin...|           Video DVD|          5|            0|          2|   N|                Y|    Excellent achat.|Un grand classiqu...| 2013-08-02|\n",
      "|         FR|      24196|R2Y4O06QMOGHD0|2226249672|     753674225|Au revoir là-haut...|               Books|          5|            2|          3|   N|                Y|     Excellent achat|Livre offert pour...| 2013-10-03|\n",
      "|         FR|      24196|R3PS3P7G1ZT57W|B000A3IF8G|     757843869|The Essential Mic...|               Music|          5|            0|          0|   N|                Y|     Excellent achat|Un artiste inoubl...| 2014-08-21|\n",
      "|         FR|      24207|R1NFWFM2WWRWPM|B00B4VI8MQ|     351620851|Epic Adventures: ...|         Mobile_Apps|          5|            0|          0|   N|                Y|                jeux|Trop cool ce jeux...| 2014-01-31|\n",
      "|         FR|      24207|R3QRIH5CXCXMEL|B00CW6DAKC|      87169065|    Super Ferme Mini|         Mobile_Apps|          4|            4|          6|   N|                Y|             ajouter|Ajouter moi &agra...| 2014-07-29|\n",
      "|         FR|      24629| RBCSM1KTYH6FX|B0031ES8P6|     724566333|Ty - Ty40819 - Pe...|                Toys|          4|            0|          0|   N|                Y|           Très bien|Bonne idée de cad...| 2014-01-13|\n",
      "|         FR|      24844|R2BIWHFIS7X808|B007AR7OGE|     414300413|First lady of son...|               Music|          5|            3|          4|   N|                Y|               Great|Just great compli...| 2012-12-17|\n",
      "|         FR|      25935|R2VGNSD09UEW5T|B00XO12REY|     271191040|  The Monsanto Years|               Music|          1|            1|          9|   N|                Y|commentaire sur M...|Pas beaucoup de s...| 2015-07-21|\n",
      "|         FR|      26425| RTGC85CCO9EMU|B007ZMHBBM|     893659638|Checkerboard Loun...|           Video DVD|          5|            0|          0|   N|                Y|        Muddy Waters|Superbe session e...| 2012-11-22|\n",
      "|         FR|      26552|R128Q27ZKTLGJ1|0446310786|     994527755|To Kill a Mocking...|               Books|          5|            0|          0|   N|                Y|          Beautiful!|I know it's a cla...| 2015-01-19|\n",
      "+-----------+-----------+--------------+----------+--------------+--------------------+--------------------+-----------+-------------+-----------+----+-----------------+--------------------+--------------------+-----------+\n",
      "only showing top 20 rows\n",
      "\n"
     ]
    }
   ],
   "source": [
    "# Read in data from S3 Buckets\n",
    "from pyspark import SparkFiles\n",
    "url =\"https://s3.amazonaws.com/amazon-reviews-pds/tsv/sample_fr.tsv\"\n",
    "spark.sparkContext.addFile(url)\n",
    "df = spark.read.csv(SparkFiles.get(\"sample_fr.tsv\"), sep=\"\\t\", header=True, inferSchema=True, timestampFormat=\"yyyy/MM/dd HH:mm:ss\")\n",
    "# Show DataFrame\n",
    "df.show()"
   ]
  },
  {
   "cell_type": "code",
   "execution_count": null,
   "metadata": {
    "colab": {
     "base_uri": "https://localhost:8080/"
    },
    "id": "TFab0L4QSivm",
    "outputId": "3a3fe310-1cd3-44ab-879e-3e212f9dcbb8"
   },
   "outputs": [
    {
     "name": "stdout",
     "output_type": "stream",
     "text": [
      "49\n",
      "49\n",
      "49\n"
     ]
    }
   ],
   "source": [
    "print(df.count())\n",
    "df = df.dropna()\n",
    "print(df.count())\n",
    "df = df.dropDuplicates()\n",
    "print(df.count())"
   ]
  },
  {
   "cell_type": "code",
   "execution_count": null,
   "metadata": {
    "colab": {
     "base_uri": "https://localhost:8080/"
    },
    "id": "bxd82NGRSicH",
    "outputId": "d2806727-558e-4fa2-a825-9ef224bd6213"
   },
   "outputs": [
    {
     "name": "stdout",
     "output_type": "stream",
     "text": [
      "root\n",
      " |-- marketplace: string (nullable = true)\n",
      " |-- customer_id: integer (nullable = true)\n",
      " |-- review_id: string (nullable = true)\n",
      " |-- product_id: string (nullable = true)\n",
      " |-- product_parent: integer (nullable = true)\n",
      " |-- product_title: string (nullable = true)\n",
      " |-- product_category: string (nullable = true)\n",
      " |-- star_rating: integer (nullable = true)\n",
      " |-- helpful_votes: integer (nullable = true)\n",
      " |-- total_votes: integer (nullable = true)\n",
      " |-- vine: string (nullable = true)\n",
      " |-- verified_purchase: string (nullable = true)\n",
      " |-- review_headline: string (nullable = true)\n",
      " |-- review_body: string (nullable = true)\n",
      " |-- review_date: string (nullable = true)\n",
      "\n"
     ]
    }
   ],
   "source": [
    "# Transform the dataset to fit the tables in the schema file.\n",
    "# Be sure the DataFrames match in data type and in column name.\n",
    "df.printSchema()"
   ]
  },
  {
   "cell_type": "markdown",
   "metadata": {
    "id": "ybRmnoIcNwA4"
   },
   "source": [
    "**Create Tables**"
   ]
  },
  {
   "cell_type": "code",
   "execution_count": null,
   "metadata": {
    "colab": {
     "base_uri": "https://localhost:8080/"
    },
    "id": "ReT-XCimSiFY",
    "outputId": "8bd48cc6-b002-4c55-addc-3834a1b7a2ed"
   },
   "outputs": [
    {
     "name": "stdout",
     "output_type": "stream",
     "text": [
      "+--------------+-----------+----------+--------------+-----------+\n",
      "|     review_id|customer_id|product_id|product_parent|review_date|\n",
      "+--------------+-----------+----------+--------------+-----------+\n",
      "|R2I1383CZ4QBZZ|      28465|B00004VXU0|     735114749| 2015-04-13|\n",
      "|R1L9V8TG9GSZJ2|      29042|B008SOJQVE|     244062959| 2013-11-25|\n",
      "|R1I34RKB2COZ8S|      32799|B008YISMLY|     494115014| 2013-03-31|\n",
      "|R35CGHFIHGVQQM|      26552|B00D1VKZ3M|      16141818| 2015-01-22|\n",
      "| RSOWF1UJJVMVI|      28700|B00I7VMIC2|     551407899| 2014-07-06|\n",
      "|R20RF32ZCTMRR3|      32494|B00CPZ7DBW|     788907793| 2014-06-16|\n",
      "|R2ZNPOPXQWHYYF|      29019|0316225932|     719455430| 2015-04-28|\n",
      "|R2Y4O06QMOGHD0|      24196|2226249672|     753674225| 2013-10-03|\n",
      "|R2E7QEWSC6EWFA|      18940|B00CW7KK9K|     977480037| 2014-06-16|\n",
      "|R26E6I47GQRYKR|      20315|B002L6SKIK|     827187473| 2013-06-10|\n",
      "|R2VGNSD09UEW5T|      25935|B00XO12REY|     271191040| 2015-07-21|\n",
      "|R1BSSQ563EWKNN|      28692|0006486118|     586496321| 2013-09-24|\n",
      "|R3UYE0U7SQCI8Q|      24196|B000FUM0TE|      48021829| 2012-11-16|\n",
      "|R3L6J8KA59DRLS|      28448|B00B0ID7D8|     912727710| 2014-01-24|\n",
      "|R3S9JNS21QDBXP|      24196|B0044JV1K6|     386772628| 2013-08-02|\n",
      "|R2PAKHGCISL38C|      28465|B00005UMYC|     514940909| 2015-05-24|\n",
      "| RWXLJO3VLC7Z6|      28767|B00170MYIS|     698997951| 2012-12-03|\n",
      "|R1RJMTSNCKB9LP|      20842|B00004YLIU|     678427290| 2013-04-15|\n",
      "|R3CCMP4EV6HAVL|      14952|B004GJXQ20|     268067011| 2014-08-03|\n",
      "|R2XMPVUFJ6AB3S|      28104|B00CSR2J9I|     690824381| 2013-11-29|\n",
      "+--------------+-----------+----------+--------------+-----------+\n",
      "only showing top 20 rows\n",
      "\n"
     ]
    }
   ],
   "source": [
    "# Create review_id_table \n",
    "review_id_table = df.select([\"review_id\", \"customer_id\", \"product_id\", \"product_parent\", \"review_date\"])\n",
    "review_id_table.show()"
   ]
  },
  {
   "cell_type": "code",
   "execution_count": null,
   "metadata": {
    "colab": {
     "base_uri": "https://localhost:8080/"
    },
    "id": "E7kno3WeBUWp",
    "outputId": "f14b5457-5399-4006-f37c-9d1c65570e10"
   },
   "outputs": [
    {
     "name": "stdout",
     "output_type": "stream",
     "text": [
      "root\n",
      " |-- review_id: string (nullable = true)\n",
      " |-- customer_id: integer (nullable = true)\n",
      " |-- product_id: string (nullable = true)\n",
      " |-- product_parent: integer (nullable = true)\n",
      " |-- review_date: string (nullable = true)\n",
      "\n"
     ]
    }
   ],
   "source": [
    "review_id_table.printSchema()"
   ]
  },
  {
   "cell_type": "code",
   "execution_count": null,
   "metadata": {
    "colab": {
     "base_uri": "https://localhost:8080/"
    },
    "id": "mPnalJA1SuNE",
    "outputId": "ea31082a-75c9-476c-a84b-5b6fa1460f12"
   },
   "outputs": [
    {
     "name": "stdout",
     "output_type": "stream",
     "text": [
      "+----------+--------------------+\n",
      "|product_id|       product_title|\n",
      "+----------+--------------------+\n",
      "|B00004VXU0|    The Big Lebowski|\n",
      "|B008SOJQVE|      The Connection|\n",
      "|B008YISMLY| Peter Pan [Blu-ray]|\n",
      "|B00D1VKZ3M|Bridget Jones: Ma...|\n",
      "|B00I7VMIC2|True Detective - ...|\n",
      "|B00CPZ7DBW|     Jump Birdy Jump|\n",
      "|0316225932|    The Burning Room|\n",
      "|2226249672|Au revoir là-haut...|\n",
      "|B00CW7KK9K|Withings Pulse - ...|\n",
      "|B002L6SKIK|          Prometheus|\n",
      "|B00XO12REY|  The Monsanto Years|\n",
      "|0006486118|A Song of Ice and...|\n",
      "|B000FUM0TE|             Amistad|\n",
      "|B00B0ID7D8|LEGO Calendriers ...|\n",
      "|B0044JV1K6|Braddock - Missin...|\n",
      "|B00005UMYC|           O'Brother|\n",
      "|B00170MYIS|Sony NP-FG1 Batte...|\n",
      "|B00004YLIU|               Kid A|\n",
      "|B004GJXQ20|A Game of Thrones...|\n",
      "|B00CSR2J9I|   Hill Climb Racing|\n",
      "+----------+--------------------+\n",
      "only showing top 20 rows\n",
      "\n"
     ]
    }
   ],
   "source": [
    "# Create products table \n",
    "products = df.select([\"product_id\", \"product_title\"])\n",
    "products.show()"
   ]
  },
  {
   "cell_type": "code",
   "execution_count": null,
   "metadata": {
    "colab": {
     "base_uri": "https://localhost:8080/"
    },
    "id": "as4C7Y6KNj4b",
    "outputId": "f061ca52-cf24-42c4-ae3b-97e9ec7d49e4"
   },
   "outputs": [
    {
     "name": "stdout",
     "output_type": "stream",
     "text": [
      "+-----------+--------------+\n",
      "|customer_id|customer_count|\n",
      "+-----------+--------------+\n",
      "|26425      |1             |\n",
      "|29814      |1             |\n",
      "|20913      |1             |\n",
      "|28767      |1             |\n",
      "|20842      |1             |\n",
      "|31630      |1             |\n",
      "|31660      |1             |\n",
      "|17564      |1             |\n",
      "|24207      |2             |\n",
      "|32494      |1             |\n",
      "|14952      |2             |\n",
      "|24196      |5             |\n",
      "|28091      |3             |\n",
      "|28448      |1             |\n",
      "|31588      |1             |\n",
      "|28700      |1             |\n",
      "|32799      |3             |\n",
      "|28557      |1             |\n",
      "|28692      |1             |\n",
      "|21490      |1             |\n",
      "+-----------+--------------+\n",
      "only showing top 20 rows\n",
      "\n"
     ]
    }
   ],
   "source": [
    "# Create customer table\n",
    "from pyspark.sql.functions import desc\n",
    "customer_count_df = df.select(\"customer_id\").groupby(\"customer_id\")\\\n",
    "  .agg({\"customer_id\":\"count\"})\n",
    "customer_count_df = customer_count_df.withColumnRenamed(\"count(customer_id)\", \"customer_count\")\n",
    "customer_count_df.show(truncate=False)"
   ]
  },
  {
   "cell_type": "code",
   "execution_count": null,
   "metadata": {
    "colab": {
     "base_uri": "https://localhost:8080/"
    },
    "id": "G0rCh7mDLQNE",
    "outputId": "15225a11-cdd0-4cc1-a02b-47c20c26bc94"
   },
   "outputs": [
    {
     "name": "stdout",
     "output_type": "stream",
     "text": [
      "+--------------+-----------+-------------+-----------+----+\n",
      "|     review_id|star_rating|helpful_votes|total_votes|vine|\n",
      "+--------------+-----------+-------------+-----------+----+\n",
      "|R2I1383CZ4QBZZ|          3|            1|          4|   N|\n",
      "|R1L9V8TG9GSZJ2|          5|            0|          0|   N|\n",
      "|R1I34RKB2COZ8S|          5|            0|          0|   N|\n",
      "|R35CGHFIHGVQQM|          2|            2|          2|   N|\n",
      "| RSOWF1UJJVMVI|          5|            1|          1|   N|\n",
      "|R20RF32ZCTMRR3|          5|            2|          2|   N|\n",
      "|R2ZNPOPXQWHYYF|          4|            0|          0|   N|\n",
      "|R2Y4O06QMOGHD0|          5|            2|          3|   N|\n",
      "|R2E7QEWSC6EWFA|          4|            0|          1|   N|\n",
      "|R26E6I47GQRYKR|          2|            3|          5|   N|\n",
      "|R2VGNSD09UEW5T|          1|            1|          9|   N|\n",
      "|R1BSSQ563EWKNN|          5|            0|          0|   N|\n",
      "|R3UYE0U7SQCI8Q|          5|            2|          3|   N|\n",
      "|R3L6J8KA59DRLS|          2|            0|          1|   N|\n",
      "|R3S9JNS21QDBXP|          5|            0|          2|   N|\n",
      "|R2PAKHGCISL38C|          5|            0|          0|   N|\n",
      "| RWXLJO3VLC7Z6|          4|            0|          0|   N|\n",
      "|R1RJMTSNCKB9LP|          2|            0|          0|   N|\n",
      "|R3CCMP4EV6HAVL|          5|            0|          0|   N|\n",
      "|R2XMPVUFJ6AB3S|          5|           11|         15|   N|\n",
      "+--------------+-----------+-------------+-----------+----+\n",
      "only showing top 20 rows\n",
      "\n"
     ]
    }
   ],
   "source": [
    "# Create vine table\n",
    "vine_table = df.select([\"review_id\", \"star_rating\", \"helpful_votes\", \"total_votes\", \"vine\"])\n",
    "vine_table.show()"
   ]
  },
  {
   "cell_type": "markdown",
   "metadata": {
    "id": "IYTr_U3UTIis"
   },
   "source": [
    "Postgres Setup"
   ]
  },
  {
   "cell_type": "code",
   "execution_count": null,
   "metadata": {
    "id": "rd64ej9fSuI6"
   },
   "outputs": [],
   "source": [
    "# Configuration for RDS instance\n",
    "mode=\"append\"\n",
    "jdbc_url = \"jdbc:postgresql://<end point>:5432/sample_fr\"\n",
    "config = {\"user\":\"<user>\",\n",
    "          \"password\": \"<password>\",\n",
    "          \"driver\":\"org.postgresql.Driver\"}"
   ]
  },
  {
   "cell_type": "code",
   "execution_count": null,
   "metadata": {
    "id": "zAnsxB-LSuE7"
   },
   "outputs": [],
   "source": [
    "# Write DataFrame to active_user table in RDS\n",
    "\n",
    "review_id_table.write.jdbc(url=jdbc_url, table='review_id_table', mode=mode, properties=config)"
   ]
  },
  {
   "cell_type": "code",
   "execution_count": null,
   "metadata": {
    "id": "u1yR2pp7SuAj"
   },
   "outputs": [],
   "source": [
    "# Write dataframe to products table in RDS\n",
    "\n",
    "products.write.jdbc(url=jdbc_url, table='products', mode=mode, properties=config)"
   ]
  },
  {
   "cell_type": "code",
   "execution_count": null,
   "metadata": {
    "id": "pdM51Y4uSt8Y"
   },
   "outputs": [],
   "source": [
    "# Write dataframe to customers table in RDS\n",
    "\n",
    "customer_count_df.write.jdbc(url=jdbc_url, table='customers', mode=mode, properties=config)"
   ]
  },
  {
   "cell_type": "code",
   "execution_count": null,
   "metadata": {
    "id": "bsTKA5xwL07j"
   },
   "outputs": [],
   "source": [
    "# Write dataframe to customers table in RDS\n",
    "\n",
    "vine_table.write.jdbc(url=jdbc_url, table='vine_table', mode=mode, properties=config)"
   ]
  }
 ],
 "metadata": {
  "colab": {
   "collapsed_sections": [],
   "name": "sample_fr_AWS.ipynb",
   "provenance": []
  },
  "kernelspec": {
   "display_name": "Python 3",
   "language": "python",
   "name": "python3"
  },
  "language_info": {
   "codemirror_mode": {
    "name": "ipython",
    "version": 3
   },
   "file_extension": ".py",
   "mimetype": "text/x-python",
   "name": "python",
   "nbconvert_exporter": "python",
   "pygments_lexer": "ipython3",
   "version": "3.6.10"
  }
 },
 "nbformat": 4,
 "nbformat_minor": 1
}
